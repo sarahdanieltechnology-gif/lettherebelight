{
 "cells": [
  {
   "cell_type": "markdown",
   "id": "651058dc-544c-4757-854b-9282cf90916a",
   "metadata": {},
   "source": [
    "# Final Assignment Instructions: Create and Share Your Jupyter Notebook"
   ]
  },
  {
   "cell_type": "markdown",
   "id": "284c1aa3-9e2f-4248-b94a-440d8aff5215",
   "metadata": {},
   "source": [
    "### Exercise 1: Create a Jupyter Notebook\n",
    "**Instructions**<br>\n",
    "* Create a new Jupyter notebook called ***DataScienceEcosystem.ipynb***"
   ]
  },
  {
   "cell_type": "markdown",
   "id": "376383b5-34fe-41a7-8c28-062c22a5d9a8",
   "metadata": {},
   "source": [
    "### Exercise 2: Create markdown cell with title of the notebook\n",
    "**Instructions**<br>\n",
    "* Create a markdown cell with the title ***Data Science Tools and Ecosystem*** using H1 style heading.\n",
    "* Take a screenshot of the markdown cell and name it as ***2-title.png***"
   ]
  },
  {
   "cell_type": "markdown",
   "id": "92d5e3a5-5ad9-48e5-a72b-53c94d43bc96",
   "metadata": {},
   "source": [
    "### Exercise 10 - Insert a markdown cell to list Objectives\n",
    "**Instructions**<br>\n",
    "* Below the introduction cell created in Exercise 3, insert a new markdown cell to list the objectives that this notebook covered (i.e. some of the key takeaways from the course).\n",
    "* In this new cell start with an introductory line titled: <br>\n",
    "* **Objectives:** in bold font.\n",
    "* Then using an **unordered list (bullets) indicate 3 to 5 items covered in this notebook**, such as List popular languages for Data Science.\n",
    "\n",
    "Take a screenshot of the markdown cell and name it as ***10-objectives.png***"
   ]
  },
  {
   "cell_type": "markdown",
   "id": "75bddb11-1888-459e-84f8-5847e209ea79",
   "metadata": {},
   "source": [
    "# Data Science Tools and Ecosystem"
   ]
  },
  {
   "cell_type": "markdown",
   "id": "4e598044-fba4-4366-b3b6-945721051f88",
   "metadata": {},
   "source": [
    "**Objectives that this notebook covered**<br>\n",
    "* This notebook covered how to create markdown cells and forumulary cells.\n",
    "* It covered how to create headings, numbered lists and unordered lists.\n",
    "* It also covered programming languages and common libraries.\n",
    "* Additionally, we had to create a table.\n",
    "* We also had to print out each of the exercises in a png file format.\n",
    "* We also had to use variables to find the sum and product of numbers and perform calculations by converting hours by minutes."
   ]
  },
  {
   "cell_type": "markdown",
   "id": "bcbef635-0b83-45b2-91fd-b2d13fc04015",
   "metadata": {},
   "source": [
    "### Exercise 3 - Create a markdown cell for an introduction\n",
    "**Instructions:**\n",
    "* Write an introductory sentence about the notebook such as the follows:\n",
    "* In this notebook, Data Science Tools and Ecosystem are summarized.\n",
    "* Take a screenshot of the markdown cell and name it as ***3-intro.png***"
   ]
  },
  {
   "cell_type": "markdown",
   "id": "e82f50bc-1672-41c9-bafe-bafa0cd0b76b",
   "metadata": {
    "jp-MarkdownHeadingCollapsed": true
   },
   "source": [
    "### Exercise 4 - Create a markdown cell to list data science languages\n",
    "##### In this notebook, Data Science Tools and Ecosystem are summarized.\n",
    "**Instructions**<br>\n",
    "* Start the cell with an overview line such as:\n",
    "* Some of the popular languages that Data Scientists use are:\n",
    "* Then create an ordered list (i.e. numbered) listing 3 (or more) commonly used languages for data science.\n",
    "* Take a screenshot of the markdown cell and name it as ***4-dslanguages.png***"
   ]
  },
  {
   "cell_type": "markdown",
   "id": "8193bd8a-ef47-41e1-9ddd-c049a3d310dd",
   "metadata": {},
   "source": [
    "**Some of the popular languages that Data Scientists use are:**<br>\n",
    "Python, R, SQL, Julia, Java and C/C++, "
   ]
  },
  {
   "cell_type": "markdown",
   "id": "8c0f7433-d33d-4044-af4c-cac6ba7c53f6",
   "metadata": {},
   "source": [
    "### Exercise 5 - Create a markdown cell to list data science libraries\n",
    "\n",
    "**Instructions**\n",
    "Add an overview line to the cell like:\n",
    "* Some of the commonly used libraries used by Data Scientists include:\n",
    "* Below this line add an ordered list listing 3 (or more) commonly used libraries in data science.\n",
    "* Take a screenshot of the markdown cell and name it as ***5-dslibraries.png***"
   ]
  },
  {
   "cell_type": "markdown",
   "id": "fe930353-9899-4bea-ad35-3aeb2b583c61",
   "metadata": {},
   "source": [
    "Some of the commonly used libraries used by Data Scientists include:\n",
    "#### Python Libraries\n",
    "1. NumPy\n",
    "2. Pandas\n",
    "3. Matplotlib\n",
    "4. Seaborn\n",
    "5. SciPy\n",
    "6. TensorFlow\n",
    "7. Keras\n",
    "8. PyTorch\n",
    "This is not an all inclusive list.\n",
    "\n",
    "#### R Libraries\n",
    "1. ggplot2\n",
    "2. dplyr\n",
    "3. caret\n",
    "This is not an all inclusive list."
   ]
  },
  {
   "cell_type": "markdown",
   "id": "74a131bf-3526-41dd-a580-2eee18764ab2",
   "metadata": {},
   "source": [
    "### Exercise 6 - Create a markdown cell with a table of Data Science tools\n",
    "**Instructions**<br>\n",
    "* Create a single column table in this cell with the first row containing the header Data Science Tools. The subsequent three rows in the table should indicate three development environment open source tools used in data science.\n",
    "* Take a screenshot of the markdown cell and name it as ***6-dstools.png***"
   ]
  },
  {
   "cell_type": "markdown",
   "id": "efb2192b-3427-4d60-9573-e4f3434887da",
   "metadata": {},
   "source": [
    "### Data Science Tools\n",
    "| Data Science Tools |\n",
    "|--------------------|\n",
    "| Jupyter Notebook / JupyterLab |\n",
    "| RStudio            |\n",
    "| Spyder             |\n"
   ]
  },
  {
   "cell_type": "markdown",
   "id": "48738a69-b9e4-46e6-9fc6-3e3f6ea61ce4",
   "metadata": {},
   "source": [
    "### Exercise 7 - Create a markdown cell introducing arithmetic expression examples\n",
    "**Instructions**<br>\n",
    "* Add a line in this cell with H3 style heading with text like:\n",
    "* Below are a few examples of evaluating arithmetic expressions in Python.\n",
    "* Take a screenshot of the markdown cell and name it as ***7-introarithmetic.png***"
   ]
  },
  {
   "cell_type": "markdown",
   "id": "b1bd4351-6aa9-4f3c-974b-cc9b987735ce",
   "metadata": {},
   "source": [
    "### Below are a few examples of evaluating arithmetic expressions in Python."
   ]
  },
  {
   "cell_type": "code",
   "execution_count": 1,
   "id": "67a80603-170a-49d5-9add-035122083b3b",
   "metadata": {},
   "outputs": [
    {
     "data": {
      "text/plain": [
       "9"
      ]
     },
     "execution_count": 1,
     "metadata": {},
     "output_type": "execute_result"
    }
   ],
   "source": [
    "x = 4\n",
    "y = 5\n",
    "z = x + y\n",
    "z"
   ]
  },
  {
   "cell_type": "code",
   "execution_count": 2,
   "id": "f8a0b30e-d18b-4867-aa78-250241e547ee",
   "metadata": {},
   "outputs": [
    {
     "data": {
      "text/plain": [
       "1200"
      ]
     },
     "execution_count": 2,
     "metadata": {},
     "output_type": "execute_result"
    }
   ],
   "source": [
    "a = 30\n",
    "b = 40\n",
    "c = a * b\n",
    "c"
   ]
  },
  {
   "cell_type": "code",
   "execution_count": 3,
   "id": "85d0f11c-e00e-4151-a0a1-46de32615665",
   "metadata": {},
   "outputs": [
    {
     "data": {
      "text/plain": [
       "35"
      ]
     },
     "execution_count": 3,
     "metadata": {},
     "output_type": "execute_result"
    }
   ],
   "source": [
    "one = 10\n",
    "two = 25\n",
    "three = one + two\n",
    "three"
   ]
  },
  {
   "cell_type": "markdown",
   "id": "1d085468-5961-4f3e-829c-6ac6dfe67e81",
   "metadata": {},
   "source": [
    "### Exercise 8 - Create a code cell to multiply and add numbers\n",
    "**Instructions**<br>\n",
    "* In this code cell evaluate the expression (3*4)+5.\n",
    "* Insert a comment line before the expression to explain the operation e.g.: **This a simple arithmetic expression to mutiply then add integers.\n",
    "Then execute the cell to ensure the expression returns the expected output of 17.**\n",
    "* Take a screenshot of the code cell with output and name it as ***8-multiplyandaddintegers.png***"
   ]
  },
  {
   "cell_type": "code",
   "execution_count": 4,
   "id": "ed30b51c-6a01-4dd7-a6a0-fb0c527f0741",
   "metadata": {},
   "outputs": [
    {
     "data": {
      "text/plain": [
       "17"
      ]
     },
     "execution_count": 4,
     "metadata": {},
     "output_type": "execute_result"
    }
   ],
   "source": [
    "(3*4)+5"
   ]
  },
  {
   "cell_type": "markdown",
   "id": "717409da-4b49-40ad-b6a5-dd77eb129551",
   "metadata": {},
   "source": [
    "## Exercise 9 - Create a code cell to convert minutes to hours\n",
    "**Instructions**<br>\n",
    "* In this code cell write an expression that converts 200 minutes into hours.\n",
    "* Insert a comment line before the expression to explain the operation e.g.  This will convert 200 minutes to hours by diving by 60.\n",
    "* Run the cell to evaluate the expression.\n",
    "* Take a screenshot of the code cell with output and name it as ***9-hourstominutes.png***"
   ]
  },
  {
   "cell_type": "code",
   "execution_count": 6,
   "id": "28851f93-5360-485b-a3b8-920f4ee8ad5a",
   "metadata": {},
   "outputs": [
    {
     "data": {
      "text/plain": [
       "3.3333333333333335"
      ]
     },
     "execution_count": 6,
     "metadata": {},
     "output_type": "execute_result"
    }
   ],
   "source": [
    "200/60"
   ]
  },
  {
   "cell_type": "markdown",
   "id": "aafed764-cef0-40ab-80fc-bc5fe7e67d98",
   "metadata": {},
   "source": [
    "## Exercise 10 - Insert a markdown cell to list Objectives\n",
    "**Instructions**<br>\n",
    "* Below the introduction cell created in Exercise 3, insert a new markdown cell to list the objectives that this notebook covered (i.e. some of the key takeaways from the course).\n",
    "* In this new cell start with an introductory line titled: <br>\n",
    "* **Objectives:** in bold font.\n",
    "* Then using an **unordered list (bullets) indicate 3 to 5 items covered in this notebook**, such as List popular languages for Data Science.\n",
    "\n",
    "Take a screenshot of the markdown cell and name it as ***10-objectives.png***"
   ]
  },
  {
   "cell_type": "markdown",
   "id": "99fef21a-fedb-438c-9353-b8e600a3edba",
   "metadata": {},
   "source": [
    "## Exercise 11 - Create a markdown cell to indicate the Author's name\n",
    "**Instructions**<br>\n",
    "* In this markdown cell markdown cell include the following text Author in H2 style heading. Include your name as regular text below the word Author.\n",
    "* Take a screenshot of the markdown cell and name it as ***11-authordetails.png***\n",
    "* Note: Save and download the notebook."
   ]
  },
  {
   "cell_type": "markdown",
   "id": "11021a5c-da9d-43a3-8f7c-c5d2b008d973",
   "metadata": {},
   "source": [
    "## Author:  Sarah Daniel"
   ]
  },
  {
   "cell_type": "markdown",
   "id": "c3a18142-c5bb-4f69-bc25-028e05759be2",
   "metadata": {},
   "source": [
    "### Exercise 12 - Share your notebook through GitHub\n",
    "\n",
    "* Upload your notebook to a public respository on GitHub.\n",
    "* Note : Please keep the GitHub repo link of the notebook handy.\n",
    "You will need to submit this link as a part of the assignment evaluation.\n",
    "* Hint: Refer to Lab: Working with files in Jupyter Notebooks to download the notebook from SN Labs."
   ]
  },
  {
   "cell_type": "markdown",
   "id": "89b7f3ac-32f9-46a8-ba08-d8b57e2918ed",
   "metadata": {},
   "source": [
    "### Exercise 13 -Take a screenshot of the first page of the notebook and save it as 1-notebook.png\n",
    "* Refer to Hands-on Lab: Getting Started with GitHub to upload the downloaded notebook to GitHub.\n",
    "* Congratulations on completing this project. In a subsequent item in the course you will submit a link to your notebook on GitHub and evaluate your peers."
   ]
  },
  {
   "cell_type": "markdown",
   "id": "04a61326-1144-4a37-8230-cfb92a345491",
   "metadata": {},
   "source": [
    "# End of assignment"
   ]
  },
  {
   "cell_type": "markdown",
   "id": "6852a4f8-1b59-4be6-9687-10ff682e045e",
   "metadata": {},
   "source": [
    "<hr>"
   ]
  },
  {
   "cell_type": "code",
   "execution_count": null,
   "id": "deb1df97-20ca-40dc-812e-903feb5463b4",
   "metadata": {},
   "outputs": [],
   "source": []
  }
 ],
 "metadata": {
  "kernelspec": {
   "display_name": "Python 3 (ipykernel)",
   "language": "python",
   "name": "python3"
  },
  "language_info": {
   "codemirror_mode": {
    "name": "ipython",
    "version": 3
   },
   "file_extension": ".py",
   "mimetype": "text/x-python",
   "name": "python",
   "nbconvert_exporter": "python",
   "pygments_lexer": "ipython3",
   "version": "3.13.5"
  }
 },
 "nbformat": 4,
 "nbformat_minor": 5
}
